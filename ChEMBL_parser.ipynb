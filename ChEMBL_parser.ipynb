{
  "nbformat": 4,
  "nbformat_minor": 0,
  "metadata": {
    "colab": {
      "provenance": []
    },
    "kernelspec": {
      "name": "python3",
      "display_name": "Python 3"
    },
    "language_info": {
      "name": "python"
    }
  },
  "cells": [
    {
      "cell_type": "code",
      "source": [
        "from google.colab import drive\n",
        "drive.mount('/content/drive')"
      ],
      "metadata": {
        "id": "vOkv1KdIgfmB",
        "colab": {
          "base_uri": "https://localhost:8080/"
        },
        "outputId": "b27128fd-b46c-4a15-8e2e-4b138b47da5d"
      },
      "execution_count": 40,
      "outputs": [
        {
          "output_type": "stream",
          "name": "stdout",
          "text": [
            "Drive already mounted at /content/drive; to attempt to forcibly remount, call drive.mount(\"/content/drive\", force_remount=True).\n"
          ]
        }
      ]
    },
    {
      "cell_type": "code",
      "source": [
        "import pandas as pd\n",
        "import os"
      ],
      "metadata": {
        "id": "O8uyTM55htEM"
      },
      "execution_count": 41,
      "outputs": []
    },
    {
      "cell_type": "code",
      "source": [
        "imported_db_Ki = pd.read_csv('/content/drive/MyDrive/5ht6_report_card.csv', usecols=[0,7,8,10,11,34,35,38,45], sep=';') #file \"5ht6_report_card.csv\" origins from CHEMBL, 5-HT6 Bioactivity Charts"
      ],
      "metadata": {
        "id": "Hk13IZGGiHD5"
      },
      "execution_count": 42,
      "outputs": []
    },
    {
      "cell_type": "code",
      "source": [
        "df_Ki = pd.DataFrame(data=imported_db_Ki)\n",
        "\n",
        "df_Ki.rename(columns={'Molecule ChEMBL ID':'Molecule_ChEMBL_ID',\n",
        "                   'Standard Type':'Standard_Type',\n",
        "                   'Standard Relation':'Standard_Relation',\n",
        "                   'Standard Value':'Standard_Value',\n",
        "                   'Standard Units':'Standard_Units',\n",
        "                   'Document ChEMBL ID':'Document_ChEMBL_ID',\n",
        "                   'Action Type':'Action_Type',\n",
        "                   'Target ChEMBL ID':'Target_ChEMBL_ID',\n",
        "                   'Target Name':'Target_Name'}, inplace=True)\n",
        "\n",
        "df_dropped_Ki = df_Ki.dropna()"
      ],
      "metadata": {
        "collapsed": true,
        "id": "fg6YiEyUjgpN"
      },
      "execution_count": 43,
      "outputs": []
    },
    {
      "cell_type": "code",
      "source": [
        "df_dropped_Ki_antagonists = df_dropped_Ki[df_dropped_Ki.Action_Type =='ANTAGONIST']\n",
        "print(f'Size before duplicates deletion: {df_dropped_Ki_antagonists.shape}')\n",
        "df_dropped_Ki_antagonists = df_dropped_Ki_antagonists.drop_duplicates(subset=['Molecule_ChEMBL_ID'], keep=False)\n",
        "print(f'Size after duplicates deletion: {df_dropped_Ki_antagonists.shape}')"
      ],
      "metadata": {
        "colab": {
          "base_uri": "https://localhost:8080/"
        },
        "id": "LgRUSWY-JZp3",
        "outputId": "fb562348-eb65-48db-fe2c-d918cc3939eb"
      },
      "execution_count": 44,
      "outputs": [
        {
          "output_type": "stream",
          "name": "stdout",
          "text": [
            "Size before duplicates deletion: (303, 9)\n",
            "Size after duplicates deletion: (249, 9)\n"
          ]
        }
      ]
    },
    {
      "cell_type": "code",
      "source": [
        "os.chdir('/content/drive/MyDrive/CNNdock_project-20241015T215624Z-001')\n",
        "!pwd\n",
        "df_dropped_Ki_antagonists.to_csv('/content/drive/MyDrive/Filtered_5HT6_antagonists.csv', index=False)"
      ],
      "metadata": {
        "id": "zdJiPXCagpvx",
        "colab": {
          "base_uri": "https://localhost:8080/"
        },
        "outputId": "eceb5e23-756c-41a2-f408-48093407110b"
      },
      "execution_count": 51,
      "outputs": [
        {
          "output_type": "stream",
          "name": "stdout",
          "text": [
            "/content/drive/MyDrive/CNNdock_project-20241015T215624Z-001\n"
          ]
        }
      ]
    }
  ]
}